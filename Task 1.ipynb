{
 "cells": [
  {
   "cell_type": "code",
   "execution_count": 3,
   "id": "8ff5f6dc",
   "metadata": {},
   "outputs": [
    {
     "name": "stdout",
     "output_type": "stream",
     "text": [
      "congrats..! Abhishek,You have got 95 marks\n"
     ]
    }
   ],
   "source": [
    "#def function with 3 arguments.\n",
    "#call function with 1 string and 2 integer\n",
    "#apply any maths operation and when you print output should look like\n",
    "#congrats your-name,you have got 95 marks\n",
    "def task1(num1,num2,num3):\n",
    "    print(\"congrats..! Abhishek,You have got\",num1+num2+num3,\"marks\")\n",
    "task1(30,35,30)"
   ]
  },
  {
   "cell_type": "code",
   "execution_count": null,
   "id": "e9272a6d",
   "metadata": {},
   "outputs": [],
   "source": []
  }
 ],
 "metadata": {
  "kernelspec": {
   "display_name": "Python 3",
   "language": "python",
   "name": "python3"
  },
  "language_info": {
   "codemirror_mode": {
    "name": "ipython",
    "version": 3
   },
   "file_extension": ".py",
   "mimetype": "text/x-python",
   "name": "python",
   "nbconvert_exporter": "python",
   "pygments_lexer": "ipython3",
   "version": "3.8.8"
  }
 },
 "nbformat": 4,
 "nbformat_minor": 5
}
